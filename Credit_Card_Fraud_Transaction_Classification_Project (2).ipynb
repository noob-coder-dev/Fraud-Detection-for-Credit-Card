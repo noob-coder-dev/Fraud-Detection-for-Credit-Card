{
  "nbformat": 4,
  "nbformat_minor": 0,
  "metadata": {
    "colab": {
      "name": "Credit Card Fraud Transaction Classification Project.ipynb",
      "provenance": []
    },
    "kernelspec": {
      "name": "python3",
      "display_name": "Python 3"
    },
    "language_info": {
      "name": "python"
    }
  },
  "cells": [
    {
      "cell_type": "markdown",
      "metadata": {
        "id": "HD4x3ATmtyQB"
      },
      "source": [
        "# Importing Necessary Libraries"
      ]
    },
    {
      "cell_type": "code",
      "metadata": {
        "id": "hc-uxlNttmZv"
      },
      "source": [
        "import pandas as pd\n",
        "import numpy as np\n",
        "import matplotlib.pyplot as plt\n",
        "from termcolor import colored as cl\n",
        "from sklearn.preprocessing import StandardScaler\n",
        "from sklearn.preprocessing import LabelEncoder\n",
        "from sklearn.model_selection import train_test_split as tts\n",
        "from imblearn.over_sampling import SMOTE\n",
        "from sklearn.tree import DecisionTreeClassifier\n",
        "from sklearn.neighbors import KNeighborsClassifier # KNN algorithm\n",
        "from sklearn.svm import SVC # SVM algorithm\n",
        "from sklearn.ensemble import RandomForestClassifier # Random forest tree algorithm\n",
        "from xgboost import XGBClassifier # XGBoost algorithm\n",
        "import itertools\n",
        "from sklearn.metrics import confusion_matrix # evaluation metric\n",
        "from sklearn.metrics import accuracy_score # evaluation metric\n",
        "from sklearn.metrics import f1_score # evaluation metric\n",
        "from sklearn.model_selection import GridSearchCV\n",
        "from sklearn.linear_model import LogisticRegression\n",
        "from sklearn.metrics import precision_recall_curve, auc, roc_auc_score, roc_curve, recall_score, classification_report"
      ],
      "execution_count": null,
      "outputs": []
    },
    {
      "cell_type": "markdown",
      "metadata": {
        "id": "OJqvtMuMuIVB"
      },
      "source": [
        "# Importing the Dataset\n",
        "* The dataset is downloaded from this [link](https://drive.google.com/file/d/1q3HENxnr5XeBTEdYT1rBO9BTdwnioB7H/view). Click that hyperlink to access the folder"
      ]
    },
    {
      "cell_type": "code",
      "metadata": {
        "colab": {
          "base_uri": "https://localhost:8080/",
          "height": 35
        },
        "id": "y2jLmikvuHq6",
        "outputId": "5944e9d1-2a9a-493d-e0e0-2c4ea70a47a8"
      },
      "source": [
        "df = pd.read_json('/content/drive/MyDrive/transactions.zip (Unzipped Files)/transactions.txt', lines=True)\n",
        "'Dataset Imported!!!'"
      ],
      "execution_count": null,
      "outputs": [
        {
          "output_type": "execute_result",
          "data": {
            "application/vnd.google.colaboratory.intrinsic+json": {
              "type": "string"
            },
            "text/plain": [
              "'Dataset Imported!!!'"
            ]
          },
          "metadata": {
            "tags": []
          },
          "execution_count": 4
        }
      ]
    },
    {
      "cell_type": "markdown",
      "metadata": {
        "id": "KBJrXDebvFe2"
      },
      "source": [
        "# Skimming through the dataset"
      ]
    },
    {
      "cell_type": "markdown",
      "metadata": {
        "id": "GpczPuj-vJ5k"
      },
      "source": [
        "## Looking at the top 5 rows of the dataset"
      ]
    },
    {
      "cell_type": "code",
      "metadata": {
        "colab": {
          "base_uri": "https://localhost:8080/",
          "height": 240
        },
        "id": "s7P_dxPMuFOs",
        "outputId": "45c5d631-f6b6-4c8a-ae86-e5556c837f78"
      },
      "source": [
        "df.head()"
      ],
      "execution_count": null,
      "outputs": [
        {
          "output_type": "execute_result",
          "data": {
            "text/html": [
              "<div>\n",
              "<style scoped>\n",
              "    .dataframe tbody tr th:only-of-type {\n",
              "        vertical-align: middle;\n",
              "    }\n",
              "\n",
              "    .dataframe tbody tr th {\n",
              "        vertical-align: top;\n",
              "    }\n",
              "\n",
              "    .dataframe thead th {\n",
              "        text-align: right;\n",
              "    }\n",
              "</style>\n",
              "<table border=\"1\" class=\"dataframe\">\n",
              "  <thead>\n",
              "    <tr style=\"text-align: right;\">\n",
              "      <th></th>\n",
              "      <th>accountNumber</th>\n",
              "      <th>customerId</th>\n",
              "      <th>creditLimit</th>\n",
              "      <th>availableMoney</th>\n",
              "      <th>transactionDateTime</th>\n",
              "      <th>transactionAmount</th>\n",
              "      <th>merchantName</th>\n",
              "      <th>acqCountry</th>\n",
              "      <th>merchantCountryCode</th>\n",
              "      <th>posEntryMode</th>\n",
              "      <th>posConditionCode</th>\n",
              "      <th>merchantCategoryCode</th>\n",
              "      <th>currentExpDate</th>\n",
              "      <th>accountOpenDate</th>\n",
              "      <th>dateOfLastAddressChange</th>\n",
              "      <th>cardCVV</th>\n",
              "      <th>enteredCVV</th>\n",
              "      <th>cardLast4Digits</th>\n",
              "      <th>transactionType</th>\n",
              "      <th>echoBuffer</th>\n",
              "      <th>currentBalance</th>\n",
              "      <th>merchantCity</th>\n",
              "      <th>merchantState</th>\n",
              "      <th>merchantZip</th>\n",
              "      <th>cardPresent</th>\n",
              "      <th>posOnPremises</th>\n",
              "      <th>recurringAuthInd</th>\n",
              "      <th>expirationDateKeyInMatch</th>\n",
              "      <th>isFraud</th>\n",
              "    </tr>\n",
              "  </thead>\n",
              "  <tbody>\n",
              "    <tr>\n",
              "      <th>0</th>\n",
              "      <td>737265056</td>\n",
              "      <td>737265056</td>\n",
              "      <td>5000</td>\n",
              "      <td>5000.0</td>\n",
              "      <td>2016-08-13T14:27:32</td>\n",
              "      <td>98.55</td>\n",
              "      <td>Uber</td>\n",
              "      <td>US</td>\n",
              "      <td>US</td>\n",
              "      <td>02</td>\n",
              "      <td>01</td>\n",
              "      <td>rideshare</td>\n",
              "      <td>06/2023</td>\n",
              "      <td>2015-03-14</td>\n",
              "      <td>2015-03-14</td>\n",
              "      <td>414</td>\n",
              "      <td>414</td>\n",
              "      <td>1803</td>\n",
              "      <td>PURCHASE</td>\n",
              "      <td></td>\n",
              "      <td>0.0</td>\n",
              "      <td></td>\n",
              "      <td></td>\n",
              "      <td></td>\n",
              "      <td>False</td>\n",
              "      <td></td>\n",
              "      <td></td>\n",
              "      <td>False</td>\n",
              "      <td>False</td>\n",
              "    </tr>\n",
              "    <tr>\n",
              "      <th>1</th>\n",
              "      <td>737265056</td>\n",
              "      <td>737265056</td>\n",
              "      <td>5000</td>\n",
              "      <td>5000.0</td>\n",
              "      <td>2016-10-11T05:05:54</td>\n",
              "      <td>74.51</td>\n",
              "      <td>AMC #191138</td>\n",
              "      <td>US</td>\n",
              "      <td>US</td>\n",
              "      <td>09</td>\n",
              "      <td>01</td>\n",
              "      <td>entertainment</td>\n",
              "      <td>02/2024</td>\n",
              "      <td>2015-03-14</td>\n",
              "      <td>2015-03-14</td>\n",
              "      <td>486</td>\n",
              "      <td>486</td>\n",
              "      <td>767</td>\n",
              "      <td>PURCHASE</td>\n",
              "      <td></td>\n",
              "      <td>0.0</td>\n",
              "      <td></td>\n",
              "      <td></td>\n",
              "      <td></td>\n",
              "      <td>True</td>\n",
              "      <td></td>\n",
              "      <td></td>\n",
              "      <td>False</td>\n",
              "      <td>False</td>\n",
              "    </tr>\n",
              "    <tr>\n",
              "      <th>2</th>\n",
              "      <td>737265056</td>\n",
              "      <td>737265056</td>\n",
              "      <td>5000</td>\n",
              "      <td>5000.0</td>\n",
              "      <td>2016-11-08T09:18:39</td>\n",
              "      <td>7.47</td>\n",
              "      <td>Play Store</td>\n",
              "      <td>US</td>\n",
              "      <td>US</td>\n",
              "      <td>09</td>\n",
              "      <td>01</td>\n",
              "      <td>mobileapps</td>\n",
              "      <td>08/2025</td>\n",
              "      <td>2015-03-14</td>\n",
              "      <td>2015-03-14</td>\n",
              "      <td>486</td>\n",
              "      <td>486</td>\n",
              "      <td>767</td>\n",
              "      <td>PURCHASE</td>\n",
              "      <td></td>\n",
              "      <td>0.0</td>\n",
              "      <td></td>\n",
              "      <td></td>\n",
              "      <td></td>\n",
              "      <td>False</td>\n",
              "      <td></td>\n",
              "      <td></td>\n",
              "      <td>False</td>\n",
              "      <td>False</td>\n",
              "    </tr>\n",
              "    <tr>\n",
              "      <th>3</th>\n",
              "      <td>737265056</td>\n",
              "      <td>737265056</td>\n",
              "      <td>5000</td>\n",
              "      <td>5000.0</td>\n",
              "      <td>2016-12-10T02:14:50</td>\n",
              "      <td>7.47</td>\n",
              "      <td>Play Store</td>\n",
              "      <td>US</td>\n",
              "      <td>US</td>\n",
              "      <td>09</td>\n",
              "      <td>01</td>\n",
              "      <td>mobileapps</td>\n",
              "      <td>08/2025</td>\n",
              "      <td>2015-03-14</td>\n",
              "      <td>2015-03-14</td>\n",
              "      <td>486</td>\n",
              "      <td>486</td>\n",
              "      <td>767</td>\n",
              "      <td>PURCHASE</td>\n",
              "      <td></td>\n",
              "      <td>0.0</td>\n",
              "      <td></td>\n",
              "      <td></td>\n",
              "      <td></td>\n",
              "      <td>False</td>\n",
              "      <td></td>\n",
              "      <td></td>\n",
              "      <td>False</td>\n",
              "      <td>False</td>\n",
              "    </tr>\n",
              "    <tr>\n",
              "      <th>4</th>\n",
              "      <td>830329091</td>\n",
              "      <td>830329091</td>\n",
              "      <td>5000</td>\n",
              "      <td>5000.0</td>\n",
              "      <td>2016-03-24T21:04:46</td>\n",
              "      <td>71.18</td>\n",
              "      <td>Tim Hortons #947751</td>\n",
              "      <td>US</td>\n",
              "      <td>US</td>\n",
              "      <td>02</td>\n",
              "      <td>01</td>\n",
              "      <td>fastfood</td>\n",
              "      <td>10/2029</td>\n",
              "      <td>2015-08-06</td>\n",
              "      <td>2015-08-06</td>\n",
              "      <td>885</td>\n",
              "      <td>885</td>\n",
              "      <td>3143</td>\n",
              "      <td>PURCHASE</td>\n",
              "      <td></td>\n",
              "      <td>0.0</td>\n",
              "      <td></td>\n",
              "      <td></td>\n",
              "      <td></td>\n",
              "      <td>True</td>\n",
              "      <td></td>\n",
              "      <td></td>\n",
              "      <td>False</td>\n",
              "      <td>False</td>\n",
              "    </tr>\n",
              "  </tbody>\n",
              "</table>\n",
              "</div>"
            ],
            "text/plain": [
              "   accountNumber  customerId  ...  expirationDateKeyInMatch  isFraud\n",
              "0      737265056   737265056  ...                     False    False\n",
              "1      737265056   737265056  ...                     False    False\n",
              "2      737265056   737265056  ...                     False    False\n",
              "3      737265056   737265056  ...                     False    False\n",
              "4      830329091   830329091  ...                     False    False\n",
              "\n",
              "[5 rows x 29 columns]"
            ]
          },
          "metadata": {
            "tags": []
          },
          "execution_count": 5
        }
      ]
    },
    {
      "cell_type": "markdown",
      "metadata": {
        "id": "Jr4LsUT1vaV0"
      },
      "source": [
        "## Looking for missing values, frequencies of different values and datatypes of the entries."
      ]
    },
    {
      "cell_type": "code",
      "metadata": {
        "id": "PhbIWj9ovVu5"
      },
      "source": [
        "# defining a function which can help us to achieve this\n",
        "def skim_through_feature(data, columns):\n",
        "  for col in columns:\n",
        "    print(cl('________________________________', attrs=['bold']))\n",
        "    print(cl(f'Feature Name: {col}', attrs=['bold']))\n",
        "    print(data[col].value_counts())\n",
        "    print(cl('________________________________', attrs=['bold']))\n"
      ],
      "execution_count": null,
      "outputs": []
    },
    {
      "cell_type": "code",
      "metadata": {
        "colab": {
          "base_uri": "https://localhost:8080/"
        },
        "id": "b2t8J5IPAVDR",
        "outputId": "a24b6cf5-6b3f-4cf3-a6d1-2989e0e254d5"
      },
      "source": [
        "skim_through_feature(df, df.columns)"
      ],
      "execution_count": null,
      "outputs": [
        {
          "output_type": "stream",
          "text": [
            "\u001b[1m________________________________\u001b[0m\n",
            "\u001b[1mFeature Name: accountNumber\u001b[0m\n",
            "380680241    32850\n",
            "882815134    13189\n",
            "570884863    10867\n",
            "246251253    10172\n",
            "369308035     7229\n",
            "             ...  \n",
            "772075422        1\n",
            "897071504        1\n",
            "456500351        1\n",
            "675656700        1\n",
            "807705524        1\n",
            "Name: accountNumber, Length: 5000, dtype: int64\n",
            "\u001b[1m________________________________\u001b[0m\n",
            "\u001b[1m________________________________\u001b[0m\n",
            "\u001b[1mFeature Name: customerId\u001b[0m\n",
            "380680241    32850\n",
            "882815134    13189\n",
            "570884863    10867\n",
            "246251253    10172\n",
            "369308035     7229\n",
            "             ...  \n",
            "772075422        1\n",
            "897071504        1\n",
            "456500351        1\n",
            "675656700        1\n",
            "807705524        1\n",
            "Name: customerId, Length: 5000, dtype: int64\n",
            "\u001b[1m________________________________\u001b[0m\n",
            "\u001b[1m________________________________\u001b[0m\n",
            "\u001b[1mFeature Name: creditLimit\u001b[0m\n",
            "5000     201863\n",
            "15000    139307\n",
            "7500      97913\n",
            "2500      75429\n",
            "20000     68629\n",
            "10000     56889\n",
            "50000     48781\n",
            "1000      36430\n",
            "250       34025\n",
            "500       27097\n",
            "Name: creditLimit, dtype: int64\n",
            "\u001b[1m________________________________\u001b[0m\n",
            "\u001b[1m________________________________\u001b[0m\n",
            "\u001b[1mFeature Name: availableMoney\u001b[0m\n",
            "250.00      6015\n",
            "5000.00     5400\n",
            "15000.00    4254\n",
            "7500.00     4069\n",
            "500.00      2811\n",
            "            ... \n",
            "2748.16        1\n",
            "3468.79        1\n",
            "19931.25       1\n",
            "2832.35        1\n",
            "5068.29        1\n",
            "Name: availableMoney, Length: 521915, dtype: int64\n",
            "\u001b[1m________________________________\u001b[0m\n",
            "\u001b[1m________________________________\u001b[0m\n",
            "\u001b[1mFeature Name: transactionDateTime\u001b[0m\n",
            "2016-05-28T14:24:41    4\n",
            "2016-12-25T14:04:15    4\n",
            "2016-08-26T03:09:48    3\n",
            "2016-05-30T07:54:14    3\n",
            "2016-09-04T13:09:18    3\n",
            "                      ..\n",
            "2016-12-26T11:20:04    1\n",
            "2016-04-22T18:31:20    1\n",
            "2016-04-06T13:58:08    1\n",
            "2016-11-04T06:17:34    1\n",
            "2016-03-02T05:38:31    1\n",
            "Name: transactionDateTime, Length: 776637, dtype: int64\n",
            "\u001b[1m________________________________\u001b[0m\n",
            "\u001b[1m________________________________\u001b[0m\n",
            "\u001b[1mFeature Name: transactionAmount\u001b[0m\n",
            "0.00      22225\n",
            "8.21        132\n",
            "49.30       125\n",
            "8.81        124\n",
            "4.39        120\n",
            "          ...  \n",
            "593.15        1\n",
            "523.10        1\n",
            "478.63        1\n",
            "410.81        1\n",
            "470.44        1\n",
            "Name: transactionAmount, Length: 66038, dtype: int64\n",
            "\u001b[1m________________________________\u001b[0m\n",
            "\u001b[1m________________________________\u001b[0m\n",
            "\u001b[1mFeature Name: merchantName\u001b[0m\n",
            "Uber                             25613\n",
            "Lyft                             25523\n",
            "oldnavy.com                      16992\n",
            "staples.com                      16980\n",
            "alibaba.com                      16959\n",
            "                                 ...  \n",
            "Sprint Communications #561941        2\n",
            "Golds Gym #956354                    2\n",
            "EZ Wireless #149871                  1\n",
            "TMobile Wireless #602341             1\n",
            "Curves #849125                       1\n",
            "Name: merchantName, Length: 2490, dtype: int64\n",
            "\u001b[1m________________________________\u001b[0m\n",
            "\u001b[1m________________________________\u001b[0m\n",
            "\u001b[1mFeature Name: acqCountry\u001b[0m\n",
            "US     774709\n",
            "         4562\n",
            "MEX      3130\n",
            "CAN      2424\n",
            "PR       1538\n",
            "Name: acqCountry, dtype: int64\n",
            "\u001b[1m________________________________\u001b[0m\n",
            "\u001b[1m________________________________\u001b[0m\n",
            "\u001b[1mFeature Name: merchantCountryCode\u001b[0m\n",
            "US     778511\n",
            "MEX      3143\n",
            "CAN      2426\n",
            "PR       1559\n",
            "          724\n",
            "Name: merchantCountryCode, dtype: int64\n",
            "\u001b[1m________________________________\u001b[0m\n",
            "\u001b[1m________________________________\u001b[0m\n",
            "\u001b[1mFeature Name: posEntryMode\u001b[0m\n",
            "05    315035\n",
            "09    236481\n",
            "02    195934\n",
            "90     19576\n",
            "80     15283\n",
            "        4054\n",
            "Name: posEntryMode, dtype: int64\n",
            "\u001b[1m________________________________\u001b[0m\n",
            "\u001b[1m________________________________\u001b[0m\n",
            "\u001b[1mFeature Name: posConditionCode\u001b[0m\n",
            "01    628787\n",
            "08    149634\n",
            "99      7533\n",
            "         409\n",
            "Name: posConditionCode, dtype: int64\n",
            "\u001b[1m________________________________\u001b[0m\n",
            "\u001b[1m________________________________\u001b[0m\n",
            "\u001b[1mFeature Name: merchantCategoryCode\u001b[0m\n",
            "online_retail           202156\n",
            "fastfood                112138\n",
            "entertainment            80098\n",
            "food                     75490\n",
            "online_gifts             66238\n",
            "rideshare                51136\n",
            "hotels                   34097\n",
            "fuel                     23910\n",
            "subscriptions            22901\n",
            "auto                     21651\n",
            "health                   19092\n",
            "personal care            18964\n",
            "airline                  15412\n",
            "mobileapps               14990\n",
            "online_subscriptions     11067\n",
            "furniture                 7432\n",
            "food_delivery             6000\n",
            "gym                       2209\n",
            "cable/phone               1382\n",
            "Name: merchantCategoryCode, dtype: int64\n",
            "\u001b[1m________________________________\u001b[0m\n",
            "\u001b[1m________________________________\u001b[0m\n",
            "\u001b[1mFeature Name: currentExpDate\u001b[0m\n",
            "03/2029    5103\n",
            "08/2024    5087\n",
            "10/2023    5075\n",
            "05/2027    5063\n",
            "01/2021    5041\n",
            "           ... \n",
            "02/2033    4276\n",
            "02/2029    4260\n",
            "02/2026    4234\n",
            "12/2019    4028\n",
            "08/2033    1874\n",
            "Name: currentExpDate, Length: 165, dtype: int64\n",
            "\u001b[1m________________________________\u001b[0m\n",
            "\u001b[1m________________________________\u001b[0m\n",
            "\u001b[1mFeature Name: accountOpenDate\u001b[0m\n",
            "2014-06-21    33623\n",
            "2014-09-30    13335\n",
            "2014-05-22    11353\n",
            "2012-10-09    10867\n",
            "2014-10-02    10653\n",
            "              ...  \n",
            "2011-10-16        1\n",
            "2014-04-18        1\n",
            "2006-05-12        1\n",
            "2006-12-22        1\n",
            "2009-11-27        1\n",
            "Name: accountOpenDate, Length: 1820, dtype: int64\n",
            "\u001b[1m________________________________\u001b[0m\n",
            "\u001b[1m________________________________\u001b[0m\n",
            "\u001b[1mFeature Name: dateOfLastAddressChange\u001b[0m\n",
            "2016-03-15    3819\n",
            "2016-01-06    3740\n",
            "2016-01-04    3558\n",
            "2016-06-08    3355\n",
            "2016-04-04    3194\n",
            "              ... \n",
            "2009-11-27       1\n",
            "2011-05-09       1\n",
            "2012-02-17       1\n",
            "2006-05-12       1\n",
            "2009-05-14       1\n",
            "Name: dateOfLastAddressChange, Length: 2184, dtype: int64\n",
            "\u001b[1m________________________________\u001b[0m\n",
            "\u001b[1m________________________________\u001b[0m\n",
            "\u001b[1mFeature Name: cardCVV\u001b[0m\n",
            "869    33749\n",
            "289    15509\n",
            "640    10804\n",
            "455    10279\n",
            "959     7024\n",
            "       ...  \n",
            "653       33\n",
            "825       29\n",
            "183       28\n",
            "125       23\n",
            "566       19\n",
            "Name: cardCVV, Length: 899, dtype: int64\n",
            "\u001b[1m________________________________\u001b[0m\n",
            "\u001b[1m________________________________\u001b[0m\n",
            "\u001b[1mFeature Name: enteredCVV\u001b[0m\n",
            "869    33424\n",
            "289    15401\n",
            "640    10731\n",
            "455    10176\n",
            "959     6963\n",
            "       ...  \n",
            "73         1\n",
            "70         1\n",
            "18         1\n",
            "23         1\n",
            "39         1\n",
            "Name: enteredCVV, Length: 976, dtype: int64\n",
            "\u001b[1m________________________________\u001b[0m\n",
            "\u001b[1m________________________________\u001b[0m\n",
            "\u001b[1mFeature Name: cardLast4Digits\u001b[0m\n",
            "593     32946\n",
            "2194    10867\n",
            "6002    10172\n",
            "6580     6747\n",
            "8502     6553\n",
            "        ...  \n",
            "7127        1\n",
            "8569        1\n",
            "211         1\n",
            "6636        1\n",
            "7024        1\n",
            "Name: cardLast4Digits, Length: 5245, dtype: int64\n",
            "\u001b[1m________________________________\u001b[0m\n",
            "\u001b[1m________________________________\u001b[0m\n",
            "\u001b[1mFeature Name: transactionType\u001b[0m\n",
            "PURCHASE                745193\n",
            "REVERSAL                 20303\n",
            "ADDRESS_VERIFICATION     20169\n",
            "                           698\n",
            "Name: transactionType, dtype: int64\n",
            "\u001b[1m________________________________\u001b[0m\n",
            "\u001b[1m________________________________\u001b[0m\n",
            "\u001b[1mFeature Name: echoBuffer\u001b[0m\n",
            "    786363\n",
            "Name: echoBuffer, dtype: int64\n",
            "\u001b[1m________________________________\u001b[0m\n",
            "\u001b[1m________________________________\u001b[0m\n",
            "\u001b[1mFeature Name: currentBalance\u001b[0m\n",
            "0.00        33678\n",
            "8.46           26\n",
            "5.67           19\n",
            "29.42          19\n",
            "59.68          18\n",
            "            ...  \n",
            "10824.85        1\n",
            "3981.23         1\n",
            "2590.12         1\n",
            "17966.23        1\n",
            "1905.86         1\n",
            "Name: currentBalance, Length: 487318, dtype: int64\n",
            "\u001b[1m________________________________\u001b[0m\n",
            "\u001b[1m________________________________\u001b[0m\n",
            "\u001b[1mFeature Name: merchantCity\u001b[0m\n",
            "    786363\n",
            "Name: merchantCity, dtype: int64\n",
            "\u001b[1m________________________________\u001b[0m\n",
            "\u001b[1m________________________________\u001b[0m\n",
            "\u001b[1mFeature Name: merchantState\u001b[0m\n",
            "    786363\n",
            "Name: merchantState, dtype: int64\n",
            "\u001b[1m________________________________\u001b[0m\n",
            "\u001b[1m________________________________\u001b[0m\n",
            "\u001b[1mFeature Name: merchantZip\u001b[0m\n",
            "    786363\n",
            "Name: merchantZip, dtype: int64\n",
            "\u001b[1m________________________________\u001b[0m\n",
            "\u001b[1m________________________________\u001b[0m\n",
            "\u001b[1mFeature Name: cardPresent\u001b[0m\n",
            "False    433495\n",
            "True     352868\n",
            "Name: cardPresent, dtype: int64\n",
            "\u001b[1m________________________________\u001b[0m\n",
            "\u001b[1m________________________________\u001b[0m\n",
            "\u001b[1mFeature Name: posOnPremises\u001b[0m\n",
            "    786363\n",
            "Name: posOnPremises, dtype: int64\n",
            "\u001b[1m________________________________\u001b[0m\n",
            "\u001b[1m________________________________\u001b[0m\n",
            "\u001b[1mFeature Name: recurringAuthInd\u001b[0m\n",
            "    786363\n",
            "Name: recurringAuthInd, dtype: int64\n",
            "\u001b[1m________________________________\u001b[0m\n",
            "\u001b[1m________________________________\u001b[0m\n",
            "\u001b[1mFeature Name: expirationDateKeyInMatch\u001b[0m\n",
            "False    785320\n",
            "True       1043\n",
            "Name: expirationDateKeyInMatch, dtype: int64\n",
            "\u001b[1m________________________________\u001b[0m\n",
            "\u001b[1m________________________________\u001b[0m\n",
            "\u001b[1mFeature Name: isFraud\u001b[0m\n",
            "False    773946\n",
            "True      12417\n",
            "Name: isFraud, dtype: int64\n",
            "\u001b[1m________________________________\u001b[0m\n"
          ],
          "name": "stdout"
        }
      ]
    },
    {
      "cell_type": "markdown",
      "metadata": {
        "id": "rOGXzDkCEFV7"
      },
      "source": [
        "* Some features has no variation i.e. all the instances have the exactly same value for those perticular feature.\n",
        "* These features are as follows:\n",
        "  * merchantZip\n",
        "  * posOnPremises\n",
        "  * recurringAuthInd\n",
        "  * merchantCity\n",
        "  * merchantState\n",
        "  * accountNumber\n",
        "  * customerId\n",
        "  * echoBuffer\n",
        "\n",
        "* Henxe, these feature will make no cointribution in prediction. It'll be better to drop these features."
      ]
    },
    {
      "cell_type": "code",
      "metadata": {
        "id": "Sf63NFLeEmLQ"
      },
      "source": [
        "df = df.drop(columns=['merchantZip', 'posOnPremises', 'recurringAuthInd', 'merchantCity', 'merchantState','accountNumber', 'customerId', 'echoBuffer'])"
      ],
      "execution_count": null,
      "outputs": []
    },
    {
      "cell_type": "markdown",
      "metadata": {
        "id": "qhq_PEOxFi6D"
      },
      "source": [
        "## Splitting the fraud and non-fraud cases into two different dataframes"
      ]
    },
    {
      "cell_type": "code",
      "metadata": {
        "id": "wbbi6xiZFMQl"
      },
      "source": [
        "fraud_df = df[df['isFraud']]\n",
        "nonFraud_df = df[~df['isFraud']]"
      ],
      "execution_count": null,
      "outputs": []
    },
    {
      "cell_type": "markdown",
      "metadata": {
        "id": "ugk1nViUGLCL"
      },
      "source": [
        "## Skimming through the statistics of Transaction Amount for fraud and non-fraud cases."
      ]
    },
    {
      "cell_type": "code",
      "metadata": {
        "colab": {
          "base_uri": "https://localhost:8080/"
        },
        "id": "qpoJEr9sFO3m",
        "outputId": "c14db3c2-91d0-4fef-8d47-f0a562f9ac36"
      },
      "source": [
        "print(cl('Statistics for Fraud Instances:', attrs=['bold']))\n",
        "print(nonFraud_df.transactionAmount.describe())"
      ],
      "execution_count": null,
      "outputs": [
        {
          "output_type": "stream",
          "text": [
            "\u001b[1mStatistics for Fraud Instances:\u001b[0m\n",
            "count    773946.000000\n",
            "mean        135.570249\n",
            "std         146.525305\n",
            "min           0.000000\n",
            "25%          33.190000\n",
            "50%          86.760000\n",
            "75%         189.390000\n",
            "max        2011.540000\n",
            "Name: transactionAmount, dtype: float64\n"
          ],
          "name": "stdout"
        }
      ]
    },
    {
      "cell_type": "code",
      "metadata": {
        "colab": {
          "base_uri": "https://localhost:8080/"
        },
        "id": "_x_w5XeFGqe6",
        "outputId": "b8365d88-ece7-4ee4-98c9-2c5a327ea8a1"
      },
      "source": [
        "print(cl('Statistics for Non-fraud Instances:', attrs=['bold']))\n",
        "print(fraud_df.transactionAmount.describe())"
      ],
      "execution_count": null,
      "outputs": [
        {
          "output_type": "stream",
          "text": [
            "\u001b[1mStatistics for Non-fraud Instances:\u001b[0m\n",
            "count    12417.000000\n",
            "mean       225.215905\n",
            "std        189.551393\n",
            "min          0.000000\n",
            "25%         86.000000\n",
            "50%        176.980000\n",
            "75%        311.460000\n",
            "max       1608.350000\n",
            "Name: transactionAmount, dtype: float64\n"
          ],
          "name": "stdout"
        }
      ]
    },
    {
      "cell_type": "markdown",
      "metadata": {
        "id": "5x9zn59YJ9T-"
      },
      "source": [
        "## Creating a copy of our current dataframe object *df*"
      ]
    },
    {
      "cell_type": "code",
      "metadata": {
        "id": "6kp9D6P_KD-T"
      },
      "source": [
        "new_df = df.copy()"
      ],
      "execution_count": null,
      "outputs": []
    },
    {
      "cell_type": "markdown",
      "metadata": {
        "id": "oNmJ0OzQG65k"
      },
      "source": [
        "## It'll be good to scale the values of Transaction Amount using Standard Scaler due to high variation in the values."
      ]
    },
    {
      "cell_type": "code",
      "metadata": {
        "colab": {
          "base_uri": "https://localhost:8080/"
        },
        "id": "TtZCOMyCG3CK",
        "outputId": "dd6f2e84-d74d-4a49-c9b5-d5a783033cda"
      },
      "source": [
        "sc = StandardScaler()\n",
        "new_df['transactionAmount'] = sc.fit_transform(new_df['transactionAmount'].values.reshape(-1,1))\n",
        "new_df['transactionAmount'].head()"
      ],
      "execution_count": null,
      "outputs": [
        {
          "output_type": "execute_result",
          "data": {
            "text/plain": [
              "0   -0.260184\n",
              "1   -0.422918\n",
              "2   -0.876733\n",
              "3   -0.876733\n",
              "4   -0.445460\n",
              "Name: transactionAmount, dtype: float64"
            ]
          },
          "metadata": {
            "tags": []
          },
          "execution_count": 32
        }
      ]
    },
    {
      "cell_type": "markdown",
      "metadata": {
        "id": "34v9Va6vH5ja"
      },
      "source": [
        "## Features like transactionDateTime, currentExpDate, accountOpenDate, dateOfLastAddressChange can't be utilized by me. Hence, I'm gonna drop these features also. "
      ]
    },
    {
      "cell_type": "code",
      "metadata": {
        "id": "pcftKHU-HpOs"
      },
      "source": [
        "new_df.drop(columns=['transactionDateTime', 'currentExpDate', 'accountOpenDate', 'dateOfLastAddressChange'], inplace= True)"
      ],
      "execution_count": null,
      "outputs": []
    },
    {
      "cell_type": "markdown",
      "metadata": {
        "id": "eb8T-XeGIuvU"
      },
      "source": [
        "## Replacing categorical values with numerical values to feed our model w/o any issue(in general)"
      ]
    },
    {
      "cell_type": "markdown",
      "metadata": {
        "id": "khGvCSr_I6Gc"
      },
      "source": [
        "### Replacing the entries of the feature **merchantName** categorical feature with its corresponding count of appearence of each values."
      ]
    },
    {
      "cell_type": "code",
      "metadata": {
        "id": "-4MpMm5qIcVI"
      },
      "source": [
        "merchantNameCount_df = new_df.groupby(['merchantName']).size().to_dict()"
      ],
      "execution_count": null,
      "outputs": []
    },
    {
      "cell_type": "code",
      "metadata": {
        "id": "49kMBNiZJhqq"
      },
      "source": [
        "# Adding to the main dataframe\n",
        "new_df['merchantNameCount'] = new_df['merchantName'].map(merchantNameCount_df)\n",
        "new_df.drop(columns=['merchantName'], inplace=True)"
      ],
      "execution_count": null,
      "outputs": []
    },
    {
      "cell_type": "markdown",
      "metadata": {
        "id": "UTfGf02iKksO"
      },
      "source": [
        "### Treating the features having missing values."
      ]
    },
    {
      "cell_type": "code",
      "metadata": {
        "colab": {
          "base_uri": "https://localhost:8080/"
        },
        "id": "URXVW3tzJlwc",
        "outputId": "fd7a2815-d0c0-4428-e00c-521cac3a452c"
      },
      "source": [
        "# merchantCountryCode\n",
        "new_df['merchantCountryCode'] = np.where((df.merchantCountryCode==''), 'X', new_df.merchantCountryCode)\n",
        "new_df['merchantCountryCode'].value_counts()"
      ],
      "execution_count": null,
      "outputs": [
        {
          "output_type": "execute_result",
          "data": {
            "text/plain": [
              "US     778511\n",
              "MEX      3143\n",
              "CAN      2426\n",
              "PR       1559\n",
              "X         724\n",
              "Name: merchantCountryCode, dtype: int64"
            ]
          },
          "metadata": {
            "tags": []
          },
          "execution_count": 35
        }
      ]
    },
    {
      "cell_type": "code",
      "metadata": {
        "colab": {
          "base_uri": "https://localhost:8080/"
        },
        "id": "UDg8gtpjLBTe",
        "outputId": "e8e041af-bf10-4594-a482-2294e691ce7a"
      },
      "source": [
        "# posEntryMode\n",
        "new_df['posEntryMode'] = np.where((new_df['posEntryMode']==''), 00, new_df.posEntryMode)\n",
        "new_df['posEntryMode'].value_counts()"
      ],
      "execution_count": null,
      "outputs": [
        {
          "output_type": "execute_result",
          "data": {
            "text/plain": [
              "05    315035\n",
              "09    236481\n",
              "02    195934\n",
              "90     19576\n",
              "80     15283\n",
              "0       4054\n",
              "Name: posEntryMode, dtype: int64"
            ]
          },
          "metadata": {
            "tags": []
          },
          "execution_count": 36
        }
      ]
    },
    {
      "cell_type": "code",
      "metadata": {
        "colab": {
          "base_uri": "https://localhost:8080/"
        },
        "id": "O7TCSF1JLTk3",
        "outputId": "cb453f5a-b499-4b03-e84a-7634928cdb65"
      },
      "source": [
        "# posConditionCode\n",
        "new_df['posConditionCode'] = np.where((new_df['posConditionCode']==''), 0, new_df.posConditionCode)\n",
        "new_df['posConditionCode'].value_counts()"
      ],
      "execution_count": null,
      "outputs": [
        {
          "output_type": "execute_result",
          "data": {
            "text/plain": [
              "01    628787\n",
              "08    149634\n",
              "99      7533\n",
              "0        409\n",
              "Name: posConditionCode, dtype: int64"
            ]
          },
          "metadata": {
            "tags": []
          },
          "execution_count": 38
        }
      ]
    },
    {
      "cell_type": "code",
      "metadata": {
        "colab": {
          "base_uri": "https://localhost:8080/"
        },
        "id": "2gIJsiZyMnnE",
        "outputId": "9c6c8597-250e-4bfb-d683-a41aa5ff9d07"
      },
      "source": [
        "# acqCountry\n",
        "new_df['acqCountry'] = np.where((new_df.acqCountry == ''), 'Y', new_df.acqCountry)\n",
        "new_df['acqCountry'].value_counts()"
      ],
      "execution_count": null,
      "outputs": [
        {
          "output_type": "execute_result",
          "data": {
            "text/plain": [
              "US     774709\n",
              "Y        4562\n",
              "MEX      3130\n",
              "CAN      2424\n",
              "PR       1538\n",
              "Name: acqCountry, dtype: int64"
            ]
          },
          "metadata": {
            "tags": []
          },
          "execution_count": 41
        }
      ]
    },
    {
      "cell_type": "code",
      "metadata": {
        "colab": {
          "base_uri": "https://localhost:8080/"
        },
        "id": "haFAF6qvM1gS",
        "outputId": "9d45ccbb-be93-412e-c3c6-24b569ca6c2a"
      },
      "source": [
        "# transactionType\n",
        "new_df['transactionType'] = np.where((new_df['transactionType'] == ''), 'X', new_df.transactionType)\n",
        "new_df['transactionType'].value_counts()"
      ],
      "execution_count": null,
      "outputs": [
        {
          "output_type": "execute_result",
          "data": {
            "text/plain": [
              "PURCHASE                745193\n",
              "REVERSAL                 20303\n",
              "ADDRESS_VERIFICATION     20169\n",
              "X                          698\n",
              "Name: transactionType, dtype: int64"
            ]
          },
          "metadata": {
            "tags": []
          },
          "execution_count": 42
        }
      ]
    },
    {
      "cell_type": "markdown",
      "metadata": {
        "id": "siiaMGH-L89Q"
      },
      "source": [
        "## Replacing the **merchantCategoryCode** with the mean w.r.t. the **transactionAmount**"
      ]
    },
    {
      "cell_type": "code",
      "metadata": {
        "id": "mav8Nws4LfEV"
      },
      "source": [
        "category_map = new_df.groupby(['merchantCategoryCode']).agg({'transactionAmount': 'mean'}).to_dict()['transactionAmount']\n",
        "new_df['merchantCategoryCodeMaped'] = new_df['merchantCategoryCode'].map(category_map)"
      ],
      "execution_count": null,
      "outputs": []
    },
    {
      "cell_type": "code",
      "metadata": {
        "id": "yzOjc8d-MUpV"
      },
      "source": [
        "# Dropping un necessary merchantCategoryCode feature from the dataframe\n",
        "new_df.drop(columns=['merchantCategoryCode'], inplace=True)"
      ],
      "execution_count": null,
      "outputs": []
    },
    {
      "cell_type": "markdown",
      "metadata": {
        "id": "dh15pmAYOeSJ"
      },
      "source": [
        "## Replacing the entries of features *acqCountry*, *merchantCountryCode*, *posEntryMode*, *posConditionCode*, *transactionType* with their dummy values."
      ]
    },
    {
      "cell_type": "code",
      "metadata": {
        "colab": {
          "base_uri": "https://localhost:8080/",
          "height": 203
        },
        "id": "-9dIirihMieA",
        "outputId": "9ad66959-ad3a-4f3e-a7dd-3715fe2517d6"
      },
      "source": [
        "new_df_acqCountry = pd.get_dummies(new_df['acqCountry'], prefix='acqCountry', drop_first=True)\n",
        "new_df_acqCountry.head()"
      ],
      "execution_count": null,
      "outputs": [
        {
          "output_type": "execute_result",
          "data": {
            "text/html": [
              "<div>\n",
              "<style scoped>\n",
              "    .dataframe tbody tr th:only-of-type {\n",
              "        vertical-align: middle;\n",
              "    }\n",
              "\n",
              "    .dataframe tbody tr th {\n",
              "        vertical-align: top;\n",
              "    }\n",
              "\n",
              "    .dataframe thead th {\n",
              "        text-align: right;\n",
              "    }\n",
              "</style>\n",
              "<table border=\"1\" class=\"dataframe\">\n",
              "  <thead>\n",
              "    <tr style=\"text-align: right;\">\n",
              "      <th></th>\n",
              "      <th>acqCountry_MEX</th>\n",
              "      <th>acqCountry_PR</th>\n",
              "      <th>acqCountry_US</th>\n",
              "      <th>acqCountry_Y</th>\n",
              "    </tr>\n",
              "  </thead>\n",
              "  <tbody>\n",
              "    <tr>\n",
              "      <th>0</th>\n",
              "      <td>0</td>\n",
              "      <td>0</td>\n",
              "      <td>1</td>\n",
              "      <td>0</td>\n",
              "    </tr>\n",
              "    <tr>\n",
              "      <th>1</th>\n",
              "      <td>0</td>\n",
              "      <td>0</td>\n",
              "      <td>1</td>\n",
              "      <td>0</td>\n",
              "    </tr>\n",
              "    <tr>\n",
              "      <th>2</th>\n",
              "      <td>0</td>\n",
              "      <td>0</td>\n",
              "      <td>1</td>\n",
              "      <td>0</td>\n",
              "    </tr>\n",
              "    <tr>\n",
              "      <th>3</th>\n",
              "      <td>0</td>\n",
              "      <td>0</td>\n",
              "      <td>1</td>\n",
              "      <td>0</td>\n",
              "    </tr>\n",
              "    <tr>\n",
              "      <th>4</th>\n",
              "      <td>0</td>\n",
              "      <td>0</td>\n",
              "      <td>1</td>\n",
              "      <td>0</td>\n",
              "    </tr>\n",
              "  </tbody>\n",
              "</table>\n",
              "</div>"
            ],
            "text/plain": [
              "   acqCountry_MEX  acqCountry_PR  acqCountry_US  acqCountry_Y\n",
              "0               0              0              1             0\n",
              "1               0              0              1             0\n",
              "2               0              0              1             0\n",
              "3               0              0              1             0\n",
              "4               0              0              1             0"
            ]
          },
          "metadata": {
            "tags": []
          },
          "execution_count": 43
        }
      ]
    },
    {
      "cell_type": "code",
      "metadata": {
        "id": "5qzgy__INzL2"
      },
      "source": [
        "# Adding to the main dataframe\n",
        "new_df = pd.concat([new_df, new_df_acqCountry], axis=1)"
      ],
      "execution_count": null,
      "outputs": []
    },
    {
      "cell_type": "code",
      "metadata": {
        "id": "N55yS1YQN6WK"
      },
      "source": [
        "new_df_ohe_modified = pd.get_dummies(new_df[['merchantCountryCode', 'posEntryMode', 'posConditionCode', 'transactionType']])\n",
        "new_df = pd.concat([new_df, new_df_ohe_modified], axis=1)"
      ],
      "execution_count": null,
      "outputs": []
    },
    {
      "cell_type": "markdown",
      "metadata": {
        "id": "20ovECWoPNFb"
      },
      "source": [
        "## Replacing the entries of the features like *expirationDateKeyInMatch*, *isFraud*, *cardPresent* with numerical values using LabelEncoder"
      ]
    },
    {
      "cell_type": "code",
      "metadata": {
        "id": "1NkWQGtqN-pz"
      },
      "source": [
        "le = LabelEncoder()\n",
        "new_df_bool = pd.DataFrame()\n",
        "new_df_bool['expirationDateKeyInMatch'] = le.fit_transform(new_df['expirationDateKeyInMatch'])\n",
        "new_df_bool['isFraud'] = le.fit_transform(new_df['isFraud'])\n",
        "new_df_bool['cardPresent'] = le.fit_transform(new_df['cardPresent'])"
      ],
      "execution_count": null,
      "outputs": []
    },
    {
      "cell_type": "code",
      "metadata": {
        "id": "1W4dHeI3PIyz"
      },
      "source": [
        "new_df.drop(columns=['cardPresent', 'expirationDateKeyInMatch', 'isFraud'], inplace=True)\n",
        "new_df = pd.concat([new_df, new_df_bool], axis=1)"
      ],
      "execution_count": null,
      "outputs": []
    },
    {
      "cell_type": "code",
      "metadata": {
        "id": "Cf7-Q0LEQ1WH"
      },
      "source": [
        "# Removing unnecessary columns\n",
        "cols = ['merchantCountryCode', 'posEntryMode', 'posConditionCode','transactionType', 'acqCountry']\n",
        "new_df.drop(columns=cols, inplace=True)"
      ],
      "execution_count": null,
      "outputs": []
    },
    {
      "cell_type": "markdown",
      "metadata": {
        "id": "RaYNyfrDRXuw"
      },
      "source": [
        "## Creating a new feature"
      ]
    },
    {
      "cell_type": "code",
      "metadata": {
        "id": "lvzBXyzjRLKa"
      },
      "source": [
        "new_df['CVVmatched'] = np.where((new_df['cardCVV']==new_df['enteredCVV']), 1, 0)"
      ],
      "execution_count": null,
      "outputs": []
    },
    {
      "cell_type": "code",
      "metadata": {
        "id": "jL8srWoDRjhV"
      },
      "source": [
        "# Droping the prevoius 3 features\n",
        "new_df.drop(columns=['enteredCVV', 'cardCVV', 'cardLast4Digits'], inplace=True)"
      ],
      "execution_count": null,
      "outputs": []
    },
    {
      "cell_type": "markdown",
      "metadata": {
        "id": "nCz2SyjVR-IR"
      },
      "source": [
        "# Splitting the dataset into Training and Test set"
      ]
    },
    {
      "cell_type": "code",
      "metadata": {
        "colab": {
          "base_uri": "https://localhost:8080/"
        },
        "id": "VevTJ3LTRlk4",
        "outputId": "1fe7c4ff-d20f-404e-cbcd-8fb6f384ded6"
      },
      "source": [
        "X = new_df.drop(columns=['isFraud'], axis=1)\n",
        "y = new_df['isFraud']\n",
        "X_train, X_test, y_train, y_test = tts(X, y, test_size=0.2, random_state=42)\n",
        "X_train.shape, X_test.shape, y_train.shape, y_test.shape"
      ],
      "execution_count": null,
      "outputs": [
        {
          "output_type": "execute_result",
          "data": {
            "text/plain": [
              "((629090, 32), (157273, 32), (629090,), (157273,))"
            ]
          },
          "metadata": {
            "tags": []
          },
          "execution_count": 61
        }
      ]
    },
    {
      "cell_type": "markdown",
      "metadata": {
        "id": "PCGV05at7nfF"
      },
      "source": [
        "## Oversampling the data using SMOTE Technique"
      ]
    },
    {
      "cell_type": "code",
      "metadata": {
        "colab": {
          "base_uri": "https://localhost:8080/"
        },
        "id": "EF_yNfsIuIOt",
        "outputId": "30817972-70f9-4968-db2a-f296a1fa098b"
      },
      "source": [
        "print(\"Before OverSampling, counts of label '1': {}\".format(sum(y_train==1)))\n",
        "print(\"Before OverSampling, counts of label '0': {} \\n\".format(sum(y_train==0)))\n",
        "\n",
        "sm = SMOTE(random_state=2)\n",
        "X_train_res, y_train_res = sm.fit_sample(X_train, y_train.ravel())\n",
        "\n",
        "print('After OverSampling, the shape of train_X: {}'.format(X_train_res.shape))\n",
        "print('After OverSampling, the shape of train_y: {} \\n'.format(y_train_res.shape))\n",
        "\n",
        "print(\"After OverSampling, counts of label '1': {}\".format(sum(y_train_res==1)))\n",
        "print(\"After OverSampling, counts of label '0': {}\".format(sum(y_train_res==0)))"
      ],
      "execution_count": null,
      "outputs": [
        {
          "output_type": "stream",
          "text": [
            "Before OverSampling, counts of label '1': 9924\n",
            "Before OverSampling, counts of label '0': 619166 \n",
            "\n"
          ],
          "name": "stdout"
        },
        {
          "output_type": "stream",
          "text": [
            "/usr/local/lib/python3.7/dist-packages/sklearn/utils/deprecation.py:87: FutureWarning: Function safe_indexing is deprecated; safe_indexing is deprecated in version 0.22 and will be removed in version 0.24.\n",
            "  warnings.warn(msg, category=FutureWarning)\n"
          ],
          "name": "stderr"
        },
        {
          "output_type": "stream",
          "text": [
            "After OverSampling, the shape of train_X: (1238332, 32)\n",
            "After OverSampling, the shape of train_y: (1238332,) \n",
            "\n",
            "After OverSampling, counts of label '1': 619166\n",
            "After OverSampling, counts of label '0': 619166\n"
          ],
          "name": "stdout"
        }
      ]
    },
    {
      "cell_type": "markdown",
      "metadata": {
        "id": "GrcKwh438Hqj"
      },
      "source": [
        "## Implementing the Logistic Regression Algorithm based Model with suitable Hyperparameter."
      ]
    },
    {
      "cell_type": "code",
      "metadata": {
        "colab": {
          "base_uri": "https://localhost:8080/"
        },
        "id": "RfRSBMtv7w7c",
        "outputId": "ff32ea34-8bc3-4f42-cb07-fef36d0140f0"
      },
      "source": [
        "from sklearn.model_selection import GridSearchCV\n",
        "from sklearn.linear_model import LogisticRegression\n",
        "from sklearn.metrics import confusion_matrix, precision_recall_curve, auc, roc_auc_score, roc_curve, recall_score, classification_report\n",
        "\n",
        "parameters = {\n",
        "    'C': np.linspace(1, 10, 10)\n",
        "             }\n",
        "lr = LogisticRegression()\n",
        "clf = GridSearchCV(lr, parameters, cv=5, verbose=5, n_jobs=3)\n",
        "clf.fit(X_train_res, y_train_res.ravel())"
      ],
      "execution_count": null,
      "outputs": [
        {
          "output_type": "stream",
          "text": [
            "Fitting 5 folds for each of 10 candidates, totalling 50 fits\n"
          ],
          "name": "stdout"
        },
        {
          "output_type": "stream",
          "text": [
            "[Parallel(n_jobs=3)]: Using backend LokyBackend with 3 concurrent workers.\n",
            "[Parallel(n_jobs=3)]: Done  12 tasks      | elapsed:  1.1min\n",
            "[Parallel(n_jobs=3)]: Done  50 out of  50 | elapsed:  4.0min finished\n"
          ],
          "name": "stderr"
        },
        {
          "output_type": "execute_result",
          "data": {
            "text/plain": [
              "GridSearchCV(cv=5, error_score=nan,\n",
              "             estimator=LogisticRegression(C=1.0, class_weight=None, dual=False,\n",
              "                                          fit_intercept=True,\n",
              "                                          intercept_scaling=1, l1_ratio=None,\n",
              "                                          max_iter=100, multi_class='auto',\n",
              "                                          n_jobs=None, penalty='l2',\n",
              "                                          random_state=None, solver='lbfgs',\n",
              "                                          tol=0.0001, verbose=0,\n",
              "                                          warm_start=False),\n",
              "             iid='deprecated', n_jobs=3,\n",
              "             param_grid={'C': array([ 1.,  2.,  3.,  4.,  5.,  6.,  7.,  8.,  9., 10.])},\n",
              "             pre_dispatch='2*n_jobs', refit=True, return_train_score=False,\n",
              "             scoring=None, verbose=5)"
            ]
          },
          "metadata": {
            "tags": []
          },
          "execution_count": 64
        }
      ]
    },
    {
      "cell_type": "markdown",
      "metadata": {
        "id": "6xHHBEOL895A"
      },
      "source": [
        "### Checking out the best hyperparameters"
      ]
    },
    {
      "cell_type": "code",
      "metadata": {
        "colab": {
          "base_uri": "https://localhost:8080/"
        },
        "id": "qnFIfnvy8UkH",
        "outputId": "c38073b2-2fca-4e7f-d15b-4d9ac367b8b5"
      },
      "source": [
        "clf.best_params_"
      ],
      "execution_count": null,
      "outputs": [
        {
          "output_type": "execute_result",
          "data": {
            "text/plain": [
              "{'C': 1.0}"
            ]
          },
          "metadata": {
            "tags": []
          },
          "execution_count": 67
        }
      ]
    },
    {
      "cell_type": "markdown",
      "metadata": {
        "id": "fmIJpbc29Hjd"
      },
      "source": [
        "### Building the final Model"
      ]
    },
    {
      "cell_type": "code",
      "metadata": {
        "colab": {
          "base_uri": "https://localhost:8080/"
        },
        "id": "cO-8WFqh9Fa6",
        "outputId": "28c53727-1e46-4bf5-a2b1-30a88543b369"
      },
      "source": [
        "log_reg_fine = LogisticRegression(C=1, penalty='l2', verbose=5)\n",
        "log_reg_fine.fit(X_train_res, y_train_res.ravel())"
      ],
      "execution_count": null,
      "outputs": [
        {
          "output_type": "stream",
          "text": [
            "[Parallel(n_jobs=1)]: Using backend SequentialBackend with 1 concurrent workers.\n",
            "[Parallel(n_jobs=1)]: Done   1 out of   1 | elapsed:   14.8s remaining:    0.0s\n",
            "[Parallel(n_jobs=1)]: Done   1 out of   1 | elapsed:   14.8s finished\n"
          ],
          "name": "stderr"
        },
        {
          "output_type": "execute_result",
          "data": {
            "text/plain": [
              "LogisticRegression(C=1, class_weight=None, dual=False, fit_intercept=True,\n",
              "                   intercept_scaling=1, l1_ratio=None, max_iter=100,\n",
              "                   multi_class='auto', n_jobs=None, penalty='l2',\n",
              "                   random_state=None, solver='lbfgs', tol=0.0001, verbose=5,\n",
              "                   warm_start=False)"
            ]
          },
          "metadata": {
            "tags": []
          },
          "execution_count": 68
        }
      ]
    },
    {
      "cell_type": "markdown",
      "metadata": {
        "id": "ZeoWdVlv-A2a"
      },
      "source": [
        "### Prediciting the test dataset labels"
      ]
    },
    {
      "cell_type": "code",
      "metadata": {
        "id": "kJd8JmmT-APa"
      },
      "source": [
        "y_test_pred_log_reg = log_reg_fine.predict(X_test)"
      ],
      "execution_count": null,
      "outputs": []
    },
    {
      "cell_type": "markdown",
      "metadata": {
        "id": "RqKjQU0e9SZW"
      },
      "source": [
        "## Implementing The Decision Tree Classifier Based Model"
      ]
    },
    {
      "cell_type": "code",
      "metadata": {
        "id": "bmsd-0db9ahs"
      },
      "source": [
        "def dtree_grid_search(X,y,nfolds):# can't operate , taking too much time\n",
        "    #create a dictionary of all values we want to test\n",
        "    param_grid = { 'criterion':['gini','entropy'],'max_depth': np.arange(3, 10)}\n",
        "    # decision tree model\n",
        "    dtree_model=DecisionTreeClassifier()\n",
        "    #use gridsearch to test all values\n",
        "    dtree_gscv = GridSearchCV(dtree_model, param_grid, cv=nfolds)\n",
        "    #fit model to data\n",
        "    dtree_gscv.fit(X, y)\n",
        "    return dtree_gscv.best_params_\n",
        "\n",
        "#dtree_grid_search(X_train_res, y_train_res, 5)"
      ],
      "execution_count": null,
      "outputs": []
    },
    {
      "cell_type": "markdown",
      "metadata": {
        "id": "j93LBHte_OUt"
      },
      "source": [
        "### Building the fine decision tree model"
      ]
    },
    {
      "cell_type": "code",
      "metadata": {
        "id": "dVMFUzPA_HDi"
      },
      "source": [
        "tree_model = DecisionTreeClassifier(max_depth=5, criterion='entropy')\n",
        "tree_model.fit(X_train_res, y_train_res)\n",
        "y_test_pred_tree = tree_model.predict(X_test)"
      ],
      "execution_count": null,
      "outputs": []
    },
    {
      "cell_type": "markdown",
      "metadata": {
        "id": "6WlMwdfyBxQJ"
      },
      "source": [
        "## Implementing the Random Forest Classifier"
      ]
    },
    {
      "cell_type": "code",
      "metadata": {
        "id": "gLvCWW2yBwNb"
      },
      "source": [
        "rf_classifier = RandomForestClassifier(max_depth=4)\n",
        "rf_classifier.fit(X_train_res, y_train_res)\n",
        "y_test_pred_rf = rf_classifier.predict(X_test)"
      ],
      "execution_count": null,
      "outputs": []
    },
    {
      "cell_type": "markdown",
      "metadata": {
        "id": "KnUUZXG6CRQW"
      },
      "source": [
        "## Printing the Accuracy Score for each classifier:"
      ]
    },
    {
      "cell_type": "code",
      "metadata": {
        "colab": {
          "base_uri": "https://localhost:8080/"
        },
        "id": "m049g0cZCPHp",
        "outputId": "5ff3118d-336b-4f69-a4f5-0421f2ba419a"
      },
      "source": [
        "print(cl('Accuracy Score', attrs=['bold']))\n",
        "print(f'Accuracy score for Decision Tree {accuracy_score(y_test, y_test_pred_tree)}')\n",
        "print(f'Accuracy score for Random Forest {accuracy_score(y_test, y_test_pred_rf)}')\n",
        "#print(f'Accuracy score for XGBoast {accuracy_score(y_test, y_predict_xgb)}')\n",
        "print(f'Accuracy score for Logistic Regression {accuracy_score(y_test, y_test_pred_log_reg)}')"
      ],
      "execution_count": null,
      "outputs": [
        {
          "output_type": "stream",
          "text": [
            "\u001b[1mAccuracy Score\u001b[0m\n",
            "Accuracy score for Decision Tree 0.7972061320124878\n",
            "Accuracy score for Random Forest 0.8027951396616075\n",
            "Accuracy score for Logistic Regression 0.7059190070768664\n"
          ],
          "name": "stdout"
        }
      ]
    },
    {
      "cell_type": "markdown",
      "metadata": {
        "id": "_USzfQbUCkDl"
      },
      "source": [
        "## Printing F1 Score"
      ]
    },
    {
      "cell_type": "code",
      "metadata": {
        "colab": {
          "base_uri": "https://localhost:8080/"
        },
        "id": "U9IMrQJ8CiYI",
        "outputId": "6ca8445d-dd34-4dbc-dbd5-f58c6c4cd6e6"
      },
      "source": [
        "print(cl('F1 Score', attrs=['bold']))\n",
        "print(f'F1_score for Decision Tree {f1_score(y_test, y_test_pred_tree)}')\n",
        "print(f'F1_score for Random Forest {f1_score(y_test, y_test_pred_rf)}')\n",
        "#print(f'F1_score for XGBoast {f1_score(y_test, y_predict_xgb)}')\n",
        "print(f'F1_score for Logistic Regression {f1_score(y_test, y_test_pred_log_reg)}')"
      ],
      "execution_count": null,
      "outputs": [
        {
          "output_type": "stream",
          "text": [
            "\u001b[1mF1 Score\u001b[0m\n",
            "F1_score for Decision Tree 0.061389052383755145\n",
            "F1_score for Random Forest 0.07015439964023384\n",
            "F1_score for Logistic Regression 0.06178874982250441\n"
          ],
          "name": "stdout"
        }
      ]
    },
    {
      "cell_type": "markdown",
      "metadata": {
        "id": "Y8hlbbgcC5YD"
      },
      "source": [
        "## Plotting Confusion Matrix"
      ]
    },
    {
      "cell_type": "code",
      "metadata": {
        "id": "uGPs_p9hC1n7"
      },
      "source": [
        "def plot_confusion_matrix(cm, classes,\n",
        "                          normalize=False,\n",
        "                          title='Confusion matrix',\n",
        "                          cmap=plt.cm.Blues):\n",
        "    \"\"\"\n",
        "    This function prints and plots the confusion matrix.\n",
        "    Normalization can be applied by setting `normalize=True`.\n",
        "    \"\"\"\n",
        "    plt.imshow(cm, interpolation='nearest', cmap=cmap)\n",
        "    plt.title(title)\n",
        "    plt.colorbar()\n",
        "    tick_marks = np.arange(len(classes))\n",
        "    plt.xticks(tick_marks, classes, rotation=0)\n",
        "    plt.yticks(tick_marks, classes)\n",
        "\n",
        "    if normalize:\n",
        "        cm = cm.astype('float') / cm.sum(axis=1)[:, np.newaxis]\n",
        "        #print(\"Normalized confusion matrix\")\n",
        "    else:\n",
        "        1#print('Confusion matrix, without normalization')\n",
        "\n",
        "    #print(cm)\n",
        "\n",
        "    thresh = cm.max() / 2.\n",
        "    for i, j in itertools.product(range(cm.shape[0]), range(cm.shape[1])):\n",
        "        plt.text(j, i, cm[i, j],\n",
        "                 horizontalalignment=\"center\",\n",
        "                 color=\"white\" if cm[i, j] > thresh else \"black\")\n",
        "\n",
        "    plt.tight_layout()\n",
        "    plt.ylabel('True label')\n",
        "    plt.xlabel('Predicted label')"
      ],
      "execution_count": null,
      "outputs": []
    },
    {
      "cell_type": "code",
      "metadata": {
        "colab": {
          "base_uri": "https://localhost:8080/",
          "height": 50
        },
        "id": "WgAqAugCDGbV",
        "outputId": "6f25d9b7-2804-412b-cad5-cf1a2a6c0204"
      },
      "source": [
        "class_names = [0,1]\n",
        "plt.figure()\n"
      ],
      "execution_count": null,
      "outputs": [
        {
          "output_type": "execute_result",
          "data": {
            "text/plain": [
              "<Figure size 432x288 with 0 Axes>"
            ]
          },
          "metadata": {
            "tags": []
          },
          "execution_count": 79
        },
        {
          "output_type": "display_data",
          "data": {
            "text/plain": [
              "<Figure size 432x288 with 0 Axes>"
            ]
          },
          "metadata": {
            "tags": []
          }
        }
      ]
    },
    {
      "cell_type": "code",
      "metadata": {
        "colab": {
          "base_uri": "https://localhost:8080/",
          "height": 328
        },
        "id": "l6SOGxHHDtpq",
        "outputId": "a71ea2b9-0a1b-4666-d6a4-d4a03f6fffee"
      },
      "source": [
        "print(cl('Confusion Matrix for Logistic Regression Based Model'))\n",
        "plot_confusion_matrix(confusion_matrix(y_test, y_test_pred_log_reg) , classes=class_names, title='Confusion matrix')"
      ],
      "execution_count": null,
      "outputs": [
        {
          "output_type": "stream",
          "text": [
            "Confusion Matrix for Logistic Regression Based Model\u001b[0m\n"
          ],
          "name": "stdout"
        },
        {
          "output_type": "display_data",
          "data": {
            "image/png": "[encoded data removed]",
            "text/plain": [
              "<Figure size 432x288 with 2 Axes>"
            ]
          },
          "metadata": {
            "tags": [],
            "needs_background": "light"
          }
        }
      ]
    },
    {
      "cell_type": "code",
      "metadata": {
        "colab": {
          "base_uri": "https://localhost:8080/",
          "height": 328
        },
        "id": "bA-9Vq_AEFLP",
        "outputId": "a4d0677b-e483-4097-96f9-3ecb5ef51328"
      },
      "source": [
        "print(cl('Confusion Matrix for Logistic Regression Based Model'))\n",
        "plot_confusion_matrix(confusion_matrix(y_test, y_test_pred_rf) , classes=class_names, title='Confusion matrix')"
      ],
      "execution_count": null,
      "outputs": [
        {
          "output_type": "stream",
          "text": [
            "Confusion Matrix for Logistic Regression Based Model\u001b[0m\n"
          ],
          "name": "stdout"
        },
        {
          "output_type": "display_data",
          "data": {
            "image/png": "[encoded data removed]",
            "text/plain": [
              "<Figure size 432x288 with 2 Axes>"
            ]
          },
          "metadata": {
            "tags": [],
            "needs_background": "light"
          }
        }
      ]
    },
    {
      "cell_type": "code",
      "metadata": {
        "colab": {
          "base_uri": "https://localhost:8080/",
          "height": 328
        },
        "id": "JODBuT_9EMGj",
        "outputId": "f8d44dc2-64a8-4a52-848e-ce402b48e455"
      },
      "source": [
        "print(cl('Confusion Matrix for Logistic Regression Based Model'))\n",
        "plot_confusion_matrix(confusion_matrix(y_test, y_test_pred_tree) , classes=class_names, title='Confusion matrix')"
      ],
      "execution_count": null,
      "outputs": [
        {
          "output_type": "stream",
          "text": [
            "Confusion Matrix for Logistic Regression Based Model\u001b[0m\n"
          ],
          "name": "stdout"
        },
        {
          "output_type": "display_data",
          "data": {
            "image/png": "[encoded data removed]",
            "text/plain": [
              "<Figure size 432x288 with 2 Axes>"
            ]
          },
          "metadata": {
            "tags": [],
            "needs_background": "light"
          }
        }
      ]
    },
    {
      "cell_type": "markdown",
      "metadata": {
        "id": "UUN_Z7d8ETVi"
      },
      "source": [
        "* Clearly the Random Forest Classifier Model is working better than any other model with an accuracy 80.28% and f1_score = 0.07"
      ]
    },
    {
      "cell_type": "code",
      "metadata": {
        "colab": {
          "base_uri": "https://localhost:8080/",
          "height": 295
        },
        "id": "kw7sAyYWGF_f",
        "outputId": "9f58335c-e70d-4e68-ceb8-abfcc33f08e7"
      },
      "source": [
        "fpr, tpr, thresholds = roc_curve(y_test, y_test_pred_rf)\n",
        "\n",
        "roc_auc = auc(fpr,tpr)\n",
        "\n",
        "# Plot ROC\n",
        "plt.title('Receiver Operating Characteristic')\n",
        "plt.plot(fpr, tpr, 'b',label='AUC = %0.3f'% roc_auc)\n",
        "plt.legend(loc='lower right')\n",
        "plt.plot([0,1],[0,1],'r--')\n",
        "plt.xlim([-0.1,1.0])\n",
        "plt.ylim([-0.1,1.01])\n",
        "plt.ylabel('True Positive Rate')\n",
        "plt.xlabel('False Positive Rate')\n",
        "plt.show()"
      ],
      "execution_count": null,
      "outputs": [
        {
          "output_type": "display_data",
          "data": {
            "image/png": "[encoded data removed]",
            "text/plain": [
              "<Figure size 432x288 with 1 Axes>"
            ]
          },
          "metadata": {
            "tags": [],
            "needs_background": "light"
          }
        }
      ]
    },
    {
      "cell_type": "code",
      "metadata": {
        "id": "MTujFcLEItPv"
      },
      "source": [
        ""
      ],
      "execution_count": null,
      "outputs": []
    }
  ]
}